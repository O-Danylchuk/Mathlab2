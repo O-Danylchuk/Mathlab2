{
 "cells": [
  {
   "cell_type": "code",
   "execution_count": 1,
   "metadata": {},
   "outputs": [
    {
     "name": "stdout",
     "output_type": "stream",
     "text": [
      "Check successed for λ: 5.0 & v: [0.70710678 0.70710678]\n",
      "Check successed for λ: 2.0 & v: [-0.4472136   0.89442719]\n",
      "Eigen values:  [5. 2.]\n",
      "Eigen vectors:\n",
      " [[ 0.70710678 -0.4472136 ]\n",
      " [ 0.70710678  0.89442719]]\n"
     ]
    }
   ],
   "source": [
    "import numpy as np\n",
    "\n",
    "def eigen_analysis(matrix):\n",
    "    eigenvalues, eigenvectors = np.linalg.eig(matrix)\n",
    "    \n",
    "    # A⋅v=λ⋅v\n",
    "    for i in range(len(eigenvalues)):\n",
    "        lambda_v = eigenvalues[i] * eigenvectors[:, i]\n",
    "        A_v = np.dot(matrix, eigenvectors[:, i])\n",
    "        if not np.allclose(lambda_v, A_v):\n",
    "            print(f\"Check failed for λ: {eigenvalues[i]} & v: {eigenvectors[:, i]}\")\n",
    "        else:\n",
    "            print(f\"Check successed for λ: {eigenvalues[i]} & v: {eigenvectors[:, i]}\")\n",
    "    \n",
    "    return eigenvalues, eigenvectors\n",
    "\n",
    "matrix = np.array([[4, 1], [2, 3]])\n",
    "eigenvalues, eigenvectors = eigen_analysis(matrix)\n",
    "print(\"Eigen values: \", eigenvalues)\n",
    "print(\"Eigen vectors:\\n\", eigenvectors)\n"
   ]
  },
  {
   "cell_type": "code",
   "execution_count": null,
   "metadata": {},
   "outputs": [],
   "source": []
  }
 ],
 "metadata": {
  "kernelspec": {
   "display_name": "ipykernel",
   "language": "python",
   "name": "ipykernel"
  },
  "language_info": {
   "codemirror_mode": {
    "name": "ipython",
    "version": 3
   },
   "file_extension": ".py",
   "mimetype": "text/x-python",
   "name": "python",
   "nbconvert_exporter": "python",
   "pygments_lexer": "ipython3",
   "version": "3.12.3"
  }
 },
 "nbformat": 4,
 "nbformat_minor": 2
}
